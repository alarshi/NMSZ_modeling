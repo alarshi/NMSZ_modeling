{
 "cells": [
  {
   "cell_type": "code",
   "execution_count": 89,
   "metadata": {},
   "outputs": [],
   "source": [
    "import numpy as np\n",
    "from math import tan, pi\n",
    "from scipy.interpolate import griddata\n",
    "import matplotlib.pyplot as plt\n",
    "from matplotlib import cm "
   ]
  },
  {
   "cell_type": "code",
   "execution_count": 103,
   "metadata": {},
   "outputs": [],
   "source": [
    "# load tomography and iasp model\n",
    "Pwave = np.loadtxt(\"PwaveSolution\")\n",
    "Swave = np.loadtxt(\"SwaveSolution\")\n",
    "iasp = np.loadtxt(\"iasp.txt\")\n",
    "T_ref = np.loadtxt(\"reference_temp.txt\");\n",
    "adiabat = np.loadtxt('/home/asaxena/opt/burnman-0.9.0/examples/adiabat_nmsz.txt') # adiabatic temp\n",
    "# To = np.loadtxt('reference_temp.txt')\n",
    "d = ( Pwave[:,3] <= 210.) & ( Pwave[:,3] >= 40. ) # last depth used in the current model\n",
    "depth = Swave[d,3]  \n",
    "delta_vs = Swave[d,2] ; delta_vp = Pwave[d,2]\n",
    "x = (Swave[d,0] + 98)*111; # approximate conversions to the cartesian\n",
    "y = (Swave[d,1] - 29)*111;"
   ]
  },
  {
   "cell_type": "code",
   "execution_count": 126,
   "metadata": {},
   "outputs": [],
   "source": [
    "delta_vs[ delta_vs <= -4.5] = -4.5"
   ]
  },
  {
   "cell_type": "code",
   "execution_count": 127,
   "metadata": {},
   "outputs": [],
   "source": [
    "# define mineral physics constants used in this study\n",
    "data = np.array([('ol', 1, 4.2, 1.4, -0.017e9, -0.014e9, 129e9, 81e9, 3222, 0.201e-4, 0.139e-7, 0.1627e-2, \n",
    "                  1.658e2, 0.2332e-2, -0.3971e7) , \n",
    "       ('opx', 0., 7, 1.6, -0.027e9, -0.012e9, 109e9, 75e9, 3215, 0.3871e-4, 0.0446e-7, 0.03435e-2, \n",
    "       1.855e2, 0.233e-2, -0.6326e7) , \n",
    "       ('gt', 0.0, 4.4, 1.4, -0.019e9, -0.01e9, 171e9, 92e9, 3565, 0.0991e-4, 0.1165e-7, 1.0624e-2, \n",
    "       1.44e2, 0.188e-2, -0.135e7)], \n",
    "        dtype=[('name', 'U10'), ('conc', 'f4'), ('KPDer', 'f4'), ('MuPDer', 'f4'), \n",
    "        ('KTDer', 'f4'), ('MuTDer', 'f4'), ('K', 'f4'), ('Mu', 'f4'), ('rho', 'f4'), \n",
    "        ('a0', 'f4'), ('a1', 'f4'), ('a2', 'f4'), ('cp0', 'f4'), ('cp1', 'f4'), ('cp2', 'f4')])\n",
    "A = 1.48e-1 ; H = 500e3; V = 20e-6; a = 0.15\n",
    "R = 8.314"
   ]
  },
  {
   "cell_type": "code",
   "execution_count": 128,
   "metadata": {},
   "outputs": [],
   "source": [
    "def density(a0, a1, a2, rho0, Ta):\n",
    "    return (rho0 * np.exp (-a0 * (Ta - 300) - ( a1*(Ta - 300)**2 )/2 - a2*np.log (Ta - 300)))"
   ]
  },
  {
   "cell_type": "code",
   "execution_count": 129,
   "metadata": {},
   "outputs": [],
   "source": [
    "def derivative (f, x, h, P, K, Kdash):\n",
    "    return (f(x+h, P, K, Kdash) - f(x-h, P, K, Kdash)) / (2.0*h) # might want to return a small non-zero if ==0\n",
    "\n",
    "def epsilon(x, P, K, Kdash):\n",
    "    return  ( (1 - 2*x) ** (5/2) ) * (3 * K * x + ( ( 9 * K * (4 - Kdash) )/ 2 ) * (x ** 2) )  + P \n",
    "\n",
    "def solve_ep (f, x0, h, P, K, Kdash):\n",
    "    lastX = x0\n",
    "    nextX = lastX + 10 * h  # \"different than lastX so loop starts OK\n",
    "    #print(abs(lastX - nextX)) \n",
    "    while (abs(lastX - nextX) > h):  # this is how you terminate the loop - note use of abs()\n",
    "        newY  = epsilon(nextX,  P, K, Kdash)                     # just for debug... see what happens\n",
    "#         print (newY)     # print out progress... again just debug\n",
    "        lastX = nextX\n",
    "        nextX = lastX - newY / derivative(f, lastX, h, P, K, Kdash)  # update estimate using N-R\n",
    "    return nextX"
   ]
  },
  {
   "cell_type": "code",
   "execution_count": 130,
   "metadata": {},
   "outputs": [],
   "source": [
    "x0 = 1.e-8\n",
    "pressures = adiabat[:,0]\n",
    "depth_a =  adiabat[:,1] / 1e3 # tomography is in m, easier for comparison\n",
    "T_a = adiabat[:,2]\n",
    "strain = np.ones(len(pressures))\n",
    "rho = np.ones(len(pressures))\n",
    "\n",
    "# compositional dependence \n",
    "rho_avg = data['rho'][0] * data['conc'][0] + data['rho'][1] * data['conc'][1] +    \\\n",
    "data['conc'][2] * data['rho'][2]\n",
    "K_avg = ( data['conc'][0] * data['K'][0] + data['conc'][1] * data['K'][1] + data['conc'][2]*data['K'][2])\n",
    "Muavg = ( data['conc'][0] * data['Mu'][0] + data['conc'][1] * data['Mu'][1] + data['conc'][2]*data['Mu'][2])\n",
    "KPDer_avg = ( data['conc'][0] * data['KPDer'][0] + data['conc'][1] * data['KPDer'][1] +   \\\n",
    "             data['conc'][2]*data['KPDer'][2])\n",
    "\n",
    "for i in range (len(pressures)):\n",
    "    Ta   = (T_a [ depth_a <= depth[i]].max()) # reference temperature with depth\n",
    "    strain[i]     = solve_ep (epsilon, x0, 1.e-15, pressures[i], K_avg, KPDer_avg) # equation to get x\n",
    "#     rho[i] = ( data['conc'][0] *  data['rho'][0] + data['conc'][1] * data['rho'][1] + \\\n",
    "#               data['conc'][2] * data['rho'][2] ) * ( ( 1 - ( 2 * strain[i] ) ) ** (3/2) )\n",
    "    rho[i] = (( data['conc'][0] *  density ( data['a0'][0], data['a1'][0], data['a2'][0], data['rho'][0], Ta) ) \n",
    "    + ( data['conc'][1] *  density ( data['a0'][1], data['a1'][1], data['a2'][1], data['rho'][1], Ta) )\n",
    "    + ( data['conc'][2] *  density ( data['a0'][2], data['a1'][2], data['a2'][2], data['rho'][2], Ta) ) ) \\\n",
    "    * ( ( 1 - ( 2 * strain[i] ) ) ** (3/2) )"
   ]
  },
  {
   "cell_type": "code",
   "execution_count": 131,
   "metadata": {},
   "outputs": [
    {
     "name": "stdout",
     "output_type": "stream",
     "text": [
      "[3127.61450605 3134.14482943 3140.63247648 3147.0757807  3153.47647475\n",
      " 3159.84849001 3166.15265526 3172.41792681 3178.64494822 3184.83663904\n",
      " 3191.01332466 3197.15330274 3203.25715817 3209.32546069 3215.35876543\n",
      " 3221.35761347 3227.32253225 3233.25403613 3239.15262677 3245.0187936 ]\n"
     ]
    }
   ],
   "source": [
    "print (rho)"
   ]
  },
  {
   "cell_type": "code",
   "execution_count": 132,
   "metadata": {},
   "outputs": [],
   "source": [
    "# corrections to the moduli\n",
    "def moduli ( To, data, x, comp):\n",
    "    return  ( data['KTDer'][comp] * (x - To) + (4./3) * data['MuTDer'][comp] * (x - To) )\n",
    "\n",
    "# corrections to the moduli\n",
    "def s_moduli ( To, data, x, comp):\n",
    "    return  ( data['MuTDer'][comp] * (x - To) )\n",
    "\n",
    "        \n",
    "def moduli_der (To, data, x, comp):\n",
    "    return ( data['KPDer'][comp] + (4/3) * data['MuPDer'][comp] ) *   \\\n",
    "( ( np.exp ( data['a0'][comp] * (x - 300) + ( data['a1'][comp] / 2 ) * (x - 300) ** 2  \\\n",
    "           ) ) * ( data['a0'][comp] + data['a1'][comp] * (x) )  * ( x - To ) ) \n",
    "\n",
    "# function for K and mu\n",
    "def p_modulus ( To, data, x, comp , ep ):   \n",
    "    return ( ( 1 - 2*ep )**(5/2) ) * ( moduli ( To, data, x, comp)   +   \\\n",
    "            ep * ( 5 * moduli ( To, data, x, comp)  - 3 * ( data['KTDer'][comp] ) *  \\\n",
    "          ( x- To ) * ( data['KPDer'][comp]  + (4/3) * data['MuPDer'][comp] ) - 3 * data['K'][comp] *   \\\n",
    "            ( moduli_der (To, data, x, comp ) ) ) ) \n",
    "\n",
    "# function for K and mu\n",
    "def s_modulus ( To, data, x, comp , ep ):   \n",
    "    return ( ( 1 - 2*ep )**(5/2) ) * ( s_moduli ( To, data, x, comp)   +   \\\n",
    "            ep * ( 5 * s_moduli ( To, data, x, comp)  - 3 * ( data['KTDer'][comp] ) *  \\\n",
    "          ( x- To ) * (  data['MuPDer'][comp] ) - 3 * data['K'][comp] * (3/4) * \\\n",
    "            ( moduli_der (To, data, x, comp ) ) ) )  \n",
    "\n",
    "def density_der(comp, rho, To, data, x, ep):\n",
    "    return - data['rho'][comp] * np.exp (- data['a0'][comp] * (x - 1300) - \\\n",
    "        ( data['a1'][comp] / 2) * (x - 1300) ** 2  ) * ( data['a0'][comp] + data['a1'][comp] * x ) * \\\n",
    "        ( x - To) * ( 1 - 2*ep )**(3/2.) "
   ]
  },
  {
   "cell_type": "code",
   "execution_count": 133,
   "metadata": {},
   "outputs": [],
   "source": [
    "# inversion for temperature\n",
    "def double_derivative (f, x, h, delVp, ep, rho, To, data, P, Vso, Vpo):\n",
    "    return (f(x+h, delVp, ep, rho, To, data, P, Vso, Vpo) + f(x-h, delVp, ep, rho, To, data, P, Vso, Vpo) -             2 * f(x-h, delVp, ep, rho, To, data, P, Vso, Vpo) ) / (h**2)  \n",
    "\n",
    "def derivative (f, x, h, delVp, ep, rho, To, data, P, Vso, Vpo):\n",
    "    return (f(x+h, delVp, ep, rho, To, data, P, Vso, Vpo) - f(x-h, delVp, ep, rho, To, data, P, Vso, Vpo)  ) / (2 * h)\n",
    "\n",
    "def temperature_p ( x, delVp, ep, rho, To, data, P, Vso, Vpo):\n",
    "    p_modulus0 = K_avg + (4/3)*Muavg     \n",
    "    return ( 1/(2 * np.sqrt(rho_avg * p_modulus0) ) ) * ( data['conc'][0] *  p_modulus ( To, data, x, 0 , ep ) +\n",
    "            data['conc'][1] *  p_modulus ( To, data, x, 1 , ep ) + data['conc'][2] *\n",
    "            p_modulus ( To, data, x, 2 , ep ) ) - ( ( np.sqrt(p_modulus0)/( 2 * ( (rho_avg) ** 3/2 ) ) ) * \\\n",
    "            ( data['conc'][0] * density_der (0, rho, To, data, x , ep) +  data['conc'][1] * \n",
    "             density_der (1, rho, To, data, x, ep) + data['conc'][2] * density_der (2, rho, To, data, x, ep ) ) ) \\\n",
    "             + ( ( a * H * (4/3) * (Vso/Vpo)**2 ) * ( ( A * ( ( 2*np.pi )**a ) * \n",
    "             np.exp ( a * ( H + P*V ) / ( R * To ) ) ) ** -1 ) /(2 * R * ( To ** 2) * np.tan ( np.pi * a/2 ) ) ) \\\n",
    "             * (x - To) - delVp\n",
    "\n",
    "def temperature_s ( x, delVs, ep, rho, To, data, P, Vso, Vpo):\n",
    "    s_modulus0 = Muavg  \n",
    "    data['KPDer'][:] = 0 ;\n",
    "    return ( 1/(2 * np.sqrt(rho_avg * s_modulus0) ) ) * (data['conc'][0] * ( s_modulus ( To, data, x, 0 , ep ) +\n",
    "            data['conc'][1] *  s_modulus ( To, data, x, 1 , ep ) + data['conc'][2] *\n",
    "            s_modulus ( To, data, x, 2 , ep ) ) ) - ( ( np.sqrt(s_modulus0)/( 2 * ( (rho_avg) ** 3/2 ) ) ) * \\\n",
    "            ( data['conc'][0] * density_der (0, rho, To, data, x , ep) +  data['conc'][1] * \n",
    "             density_der (1, rho, To, data, x, ep) + data['conc'][2] * density_der (2, rho, To, data, x, ep ) ) ) \\\n",
    "             + ( ( a * H ) * ( ( A * ( ( 2*np.pi )**a ) * \n",
    "             np.exp ( a * ( H + P*V ) / ( R * To ) ) ) ** -1 ) /(2 * R * ( To ** 2) * np.tan ( np.pi * a/2 ) ) ) \\\n",
    "             * (x - To) - delVs\n",
    "\n",
    "\n",
    "def solve_T (f, x0, h, delVp, ep, rho, To, data, P, Vso, Vpo):\n",
    "    lastX = x0\n",
    "    nextX = lastX +  10 * h  # \"different than lastX so loop starts OK\n",
    "    while (abs(lastX - nextX) > h):  # this is how you terminate the loop - note use of abs()        \n",
    "        newY  = f (nextX, delVp, ep, rho, To, data, P, Vso, Vpo)          # just for debug... see what happens\n",
    "#         print (newY)     # print out progress... again just debug\n",
    "        lastX = nextX\n",
    "        nextX = lastX -  f (nextX,  delVp, ep, rho, To, data, P, Vso, Vpo) / double_derivative(f, lastX, h,  delVp, ep, rho, To, data, P, Vso, Vpo)  # update estimate using N-R\n",
    "    return nextX"
   ]
  },
  {
   "cell_type": "code",
   "execution_count": 134,
   "metadata": {},
   "outputs": [],
   "source": [
    "Vp_o = np.ones(len(depth)) ; Vs_o = np.ones(len(depth))\n",
    "dVp = np.ones(len(depth)) ; Vp = np.ones(len(depth))\n",
    "To = np.ones(len(depth)) ; ep_cal = np.ones(len(depth))\n",
    "rho_cal = np.ones(len(depth)); T_p = np.ones(len(depth)) \n",
    "P = np.ones(len(depth)) ; dVs = np.ones(len(depth))\n",
    "T_s = np.ones(len(depth))"
   ]
  },
  {
   "cell_type": "code",
   "execution_count": 135,
   "metadata": {},
   "outputs": [],
   "source": [
    "# invert for temperatures\n",
    "x0 = 200;\n",
    "depth_a =  adiabat[:,1] / 1e3 # tomography is in m, easier for comparison\n",
    "T_a = adiabat[:,2]\n",
    "\n",
    "for i in range (len(depth)):\n",
    "    data['a2'][:] = 0; # ignore second terms\n",
    "    Vp_o[i]  = (iasp[:,1][iasp[:,0] <= depth[i]].max())*1.e3 # find P wave reference velocity for the tomography\n",
    "    Vs_o[i]  = (iasp[:,2][iasp[:,0] <= depth[i]].max())*1.e3 # find S wave reference velocity for the tomography\n",
    "    To[i]   = (T_ref[:,1][T_ref[:,0] <= depth[i]].max()) + 273# reference temperature with depth\n",
    "    dVp[i]   = delta_vp[i] * Vp_o[i]/100; \n",
    "    dVs[i]   = delta_vs[i] * Vs_o[i]/100; \n",
    "    Vp[i]    = dVp[i] + Vp_o[i]\n",
    "    ep_cal[i]  = strain [depth_a <= depth[i]].max()\n",
    "    P[i]     = (pressures[depth_a <= depth[i]].max())\n",
    "    rho_cal[i] = rho [depth_a <= depth[i]].max()\n",
    "    # equation to get x\n",
    "#     T_p[i]     = solve_T (temperature_p, x0, 1,  dVp[i], ep_cal[i], rho_cal[i], To[i], data, P[i], \n",
    "#                          Vs_o[i], Vp_o[i])\n",
    "    T_s[i]     = solve_T (temperature_s, x0, 1,  dVs[i], ep_cal[i], rho_cal[i], To[i], data, P[i], \n",
    "                         Vs_o[i], Vp_o[i])\n"
   ]
  },
  {
   "cell_type": "code",
   "execution_count": 136,
   "metadata": {},
   "outputs": [
    {
     "name": "stdout",
     "output_type": "stream",
     "text": [
      "464.09846849059795 -516.3606103502932\n"
     ]
    }
   ],
   "source": [
    "# print (max(T_p-To) , min(T_p-To))\n",
    "print (max(T_s-To), min(T_s-To))"
   ]
  },
  {
   "cell_type": "code",
   "execution_count": 55,
   "metadata": {},
   "outputs": [
    {
     "name": "stdout",
     "output_type": "stream",
     "text": [
      "3227.81\n"
     ]
    }
   ],
   "source": [
    "print (rho_avg)"
   ]
  },
  {
   "cell_type": "code",
   "execution_count": 59,
   "metadata": {},
   "outputs": [
    {
     "ename": "NameError",
     "evalue": "name 'd_q' is not defined",
     "output_type": "error",
     "traceback": [
      "\u001b[0;31m---------------------------------------------------------------------------\u001b[0m",
      "\u001b[0;31mNameError\u001b[0m                                 Traceback (most recent call last)",
      "\u001b[0;32m<ipython-input-59-06d3d63dcc76>\u001b[0m in \u001b[0;36m<module>\u001b[0;34m()\u001b[0m\n\u001b[0;32m----> 1\u001b[0;31m \u001b[0md_cal\u001b[0m   \u001b[0;34m=\u001b[0m \u001b[0mnp\u001b[0m\u001b[0;34m.\u001b[0m\u001b[0mreshape\u001b[0m\u001b[0;34m(\u001b[0m\u001b[0mdepth\u001b[0m\u001b[0;34m,\u001b[0m\u001b[0;34m(\u001b[0m\u001b[0mlen\u001b[0m\u001b[0;34m(\u001b[0m\u001b[0md_q\u001b[0m\u001b[0;34m)\u001b[0m\u001b[0;34m,\u001b[0m \u001b[0mnpts\u001b[0m\u001b[0;34m,\u001b[0m \u001b[0mnpts\u001b[0m\u001b[0;34m)\u001b[0m\u001b[0;34m)\u001b[0m\u001b[0;34m\u001b[0m\u001b[0;34m\u001b[0m\u001b[0m\n\u001b[0m\u001b[1;32m      2\u001b[0m \u001b[0mT_cal\u001b[0m   \u001b[0;34m=\u001b[0m \u001b[0mnp\u001b[0m\u001b[0;34m.\u001b[0m\u001b[0mreshape\u001b[0m\u001b[0;34m(\u001b[0m\u001b[0mT_results\u001b[0m\u001b[0;34m,\u001b[0m \u001b[0;34m(\u001b[0m\u001b[0mlen\u001b[0m\u001b[0;34m(\u001b[0m\u001b[0md_q\u001b[0m\u001b[0;34m)\u001b[0m\u001b[0;34m,\u001b[0m \u001b[0mnpts\u001b[0m\u001b[0;34m,\u001b[0m \u001b[0mnpts\u001b[0m\u001b[0;34m)\u001b[0m\u001b[0;34m)\u001b[0m\u001b[0;34m\u001b[0m\u001b[0;34m\u001b[0m\u001b[0m\n\u001b[1;32m      3\u001b[0m \u001b[0mdVp_cal\u001b[0m \u001b[0;34m=\u001b[0m \u001b[0mnp\u001b[0m\u001b[0;34m.\u001b[0m\u001b[0mreshape\u001b[0m\u001b[0;34m(\u001b[0m\u001b[0mdVp\u001b[0m\u001b[0;34m,\u001b[0m \u001b[0;34m(\u001b[0m\u001b[0mlen\u001b[0m\u001b[0;34m(\u001b[0m\u001b[0md_q\u001b[0m\u001b[0;34m)\u001b[0m\u001b[0;34m,\u001b[0m \u001b[0mnpts\u001b[0m\u001b[0;34m,\u001b[0m \u001b[0mnpts\u001b[0m\u001b[0;34m)\u001b[0m\u001b[0;34m)\u001b[0m\u001b[0;34m\u001b[0m\u001b[0;34m\u001b[0m\u001b[0m\n\u001b[1;32m      4\u001b[0m \u001b[0mVp_cal\u001b[0m \u001b[0;34m=\u001b[0m \u001b[0mnp\u001b[0m\u001b[0;34m.\u001b[0m\u001b[0mreshape\u001b[0m\u001b[0;34m(\u001b[0m\u001b[0mVp\u001b[0m\u001b[0;34m,\u001b[0m \u001b[0;34m(\u001b[0m\u001b[0mlen\u001b[0m\u001b[0;34m(\u001b[0m\u001b[0md_q\u001b[0m\u001b[0;34m)\u001b[0m\u001b[0;34m,\u001b[0m \u001b[0mnpts\u001b[0m\u001b[0;34m,\u001b[0m \u001b[0mnpts\u001b[0m\u001b[0;34m)\u001b[0m\u001b[0;34m)\u001b[0m\u001b[0;34m\u001b[0m\u001b[0;34m\u001b[0m\u001b[0m\n\u001b[1;32m      5\u001b[0m \u001b[0mlat_cal\u001b[0m \u001b[0;34m=\u001b[0m \u001b[0mnp\u001b[0m\u001b[0;34m.\u001b[0m\u001b[0mreshape\u001b[0m\u001b[0;34m(\u001b[0m\u001b[0mlatitude\u001b[0m\u001b[0;34m,\u001b[0m\u001b[0;34m(\u001b[0m\u001b[0mlen\u001b[0m\u001b[0;34m(\u001b[0m\u001b[0md_q\u001b[0m\u001b[0;34m)\u001b[0m\u001b[0;34m,\u001b[0m \u001b[0mnpts\u001b[0m\u001b[0;34m,\u001b[0m \u001b[0mnpts\u001b[0m\u001b[0;34m)\u001b[0m\u001b[0;34m)\u001b[0m\u001b[0;34m\u001b[0m\u001b[0;34m\u001b[0m\u001b[0m\n",
      "\u001b[0;31mNameError\u001b[0m: name 'd_q' is not defined"
     ]
    }
   ],
   "source": [
    "d_cal   = np.reshape(depth,(len(d_q), npts, npts))\n",
    "T_cal   = np.reshape(T_results, (len(d_q), npts, npts))\n",
    "dVp_cal = np.reshape(dVp, (len(d_q), npts, npts))\n",
    "Vp_cal = np.reshape(Vp, (len(d_q), npts, npts))\n",
    "lat_cal = np.reshape(latitude,(len(d_q), npts, npts))\n",
    "long_cal= np.reshape(longitde,(len(d_q), npts, npts))\n",
    "n = 0\n",
    "(fig, (ax1, ax2)) = plt.subplots(1, 2, figsize=(20,6))\n",
    "plt.rcParams.update({'font.size': 14})\n",
    "CB = ax1.pcolormesh(long_cal[n,:, :], lat_cal[n, :, :], T_cal[n ,:, :], cmap=cm.hot, shading='gouraud')\n",
    "CB1 = ax2.pcolormesh(long_cal[n,:, :], lat_cal[n, :, :], Vp_cal[n ,:, :], cmap=cm.hot, shading='gouraud')\n",
    "cbar = plt.colorbar(CB, shrink=0.6, ax=ax1)\n",
    "cbar2 = plt.colorbar(CB1, shrink=0.6, ax=ax2)\n",
    "\n",
    "CB.axes.set_xlim([-92, -74])\n",
    "CB.axes.set_ylim([27, 41])\n",
    "CB1.axes.set_xlim([-92, -74])\n",
    "CB1.axes.set_ylim([27, 41])\n",
    "plt.show()\n",
    "print(np.unique(longitde)[n])"
   ]
  },
  {
   "cell_type": "code",
   "execution_count": 13,
   "metadata": {},
   "outputs": [
    {
     "name": "stdout",
     "output_type": "stream",
     "text": [
      "(382500,) (337500,)\n"
     ]
    }
   ],
   "source": [
    "# addting a buffer layer\n",
    "longitde_c = np.concatenate([np.reshape (np.tile(grid_x, (2,1)), (npts*npts*2)), longitde])\n",
    "latitude_c   = np.concatenate([np.reshape (np.tile(grid_y, (2,1)), (npts*npts*2)), latitude])\n",
    "depth_c    = np.concatenate([5*np.ones(npts*npts), 40*np.ones(npts*npts), depth])\n",
    "T_c = np.concatenate([423*np.ones(npts*npts), 773*np.ones(npts*npts), T_results])\n",
    "print (np.shape(latitude_c), np.shape(depth))\n",
    "\n",
    "r = (6370 - depth_c)*1e3\n",
    "longitude = (360 + longitde_c)*np.pi/180\n",
    "latitde = (90 - latitude_c)*np.pi/180\n",
    "ind = np.lexsort((r, longitude, latitde))\n",
    "np.savetxt('initial_temperature_Pder_no_root.txt', \\\n",
    "            np.stack((r[ind], longitude[ind], latitde[ind], T_c[ind]), axis=-1))"
   ]
  },
  {
   "cell_type": "code",
   "execution_count": 59,
   "metadata": {},
   "outputs": [
    {
     "name": "stdout",
     "output_type": "stream",
     "text": [
      "130.0\n"
     ]
    }
   ],
   "source": [
    "print (d_q[2\n",
    "          ])"
   ]
  },
  {
   "cell_type": "code",
   "execution_count": null,
   "metadata": {},
   "outputs": [],
   "source": []
  }
 ],
 "metadata": {
  "kernelspec": {
   "display_name": "Python 3",
   "language": "python",
   "name": "python3"
  },
  "language_info": {
   "codemirror_mode": {
    "name": "ipython",
    "version": 3
   },
   "file_extension": ".py",
   "mimetype": "text/x-python",
   "name": "python",
   "nbconvert_exporter": "python",
   "pygments_lexer": "ipython3",
   "version": "3.6.8"
  }
 },
 "nbformat": 4,
 "nbformat_minor": 2
}
